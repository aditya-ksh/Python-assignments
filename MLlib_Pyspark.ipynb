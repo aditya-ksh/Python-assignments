{
 "cells": [
  {
   "cell_type": "code",
   "execution_count": 1,
   "id": "51810413-060f-472b-8e70-610942208f83",
   "metadata": {},
   "outputs": [],
   "source": [
    "import os \n",
    "import sys\n",
    "os.environ['PYSPARK_PYTHON'] = sys.executable \n",
    "os.environ['PYSPARK_DRIVER_PYTHON'] = sys.executable"
   ]
  },
  {
   "cell_type": "code",
   "execution_count": 2,
   "id": "ab3192a0-6543-462f-9c81-531173ee93e0",
   "metadata": {},
   "outputs": [],
   "source": [
    "from pyspark.ml.regression import LinearRegression\n",
    "from pyspark.ml.feature import VectorAssembler\n",
    "from pyspark import SparkContext, SparkConf\n",
    "from pyspark.sql import SparkSession"
   ]
  },
  {
   "cell_type": "code",
   "execution_count": 3,
   "id": "51e69391-7037-4931-8029-bf388c5d3d31",
   "metadata": {},
   "outputs": [],
   "source": [
    "import matplotlib.pyplot as plt"
   ]
  },
  {
   "cell_type": "markdown",
   "id": "5ce5f16d-c422-4123-9901-02e841336c0e",
   "metadata": {},
   "source": [
    "# Creating spark session"
   ]
  },
  {
   "cell_type": "code",
   "execution_count": 5,
   "id": "db3f8958-64fd-499a-b418-ae6cb089c4a3",
   "metadata": {
    "scrolled": true
   },
   "outputs": [
    {
     "name": "stderr",
     "output_type": "stream",
     "text": [
      "Setting default log level to \"WARN\".\n",
      "To adjust logging level use sc.setLogLevel(newLevel). For SparkR, use setLogLevel(newLevel).\n",
      "25/02/25 11:31:46 WARN NativeCodeLoader: Unable to load native-hadoop library for your platform... using builtin-java classes where applicable\n",
      "25/02/25 11:31:47 WARN Utils: Service 'SparkUI' could not bind on port 4040. Attempting port 4041.\n"
     ]
    }
   ],
   "source": [
    "conf_spark = SparkConf().set(\"spark.driver.host\", \"127.0.0.1\")\n",
    "spark = SparkSession.builder.appName(\"Testing PySpark Example\").getOrCreate()"
   ]
  },
  {
   "cell_type": "markdown",
   "id": "b7987611-5ee1-4960-b4bd-624eaa5664eb",
   "metadata": {},
   "source": [
    "### Loading ml data \n"
   ]
  },
  {
   "cell_type": "code",
   "execution_count": 7,
   "id": "2ab80c23-44f2-488f-b476-7ba6d089402a",
   "metadata": {},
   "outputs": [
    {
     "name": "stdout",
     "output_type": "stream",
     "text": [
      "['price', 'area', 'bedrooms', 'bathrooms', 'stories', 'mainroad', 'guestroom', 'basement', 'hotwaterheating', 'airconditioning', 'parking', 'prefarea', 'furnishingstatus']\n"
     ]
    }
   ],
   "source": [
    "#multilinear data set, as there are multiple features\n",
    "\n",
    "housing_data = spark\\\n",
    " .read\\\n",
    " .option(\"inferSchema\", \"true\")\\\n",
    " .option(\"header\", \"true\")\\\n",
    " .csv(\"/Users/prateekpaul/Downloads/Housing.csv\")\n",
    "\n",
    "\n",
    "print(housing_data.columns)\n",
    "x_cols = ['area']      # 'bedrooms']\n",
    "y_col = 'price'"
   ]
  },
  {
   "cell_type": "markdown",
   "id": "82c4717c-b8b5-46c9-9c7b-146f2899aae3",
   "metadata": {},
   "source": [
    "# Preprocessing for LR"
   ]
  },
  {
   "cell_type": "code",
   "execution_count": 9,
   "id": "9485c667-6bc4-4d80-9068-1245a3319e86",
   "metadata": {},
   "outputs": [],
   "source": [
    "# preparing data for machine learning requires all features to be in a single vector column\n",
    "# Vectorassembler is a transformer in Pyspark used to combine multiple feature coulumns into a single vector column\n",
    "\n",
    "assembler = VectorAssembler(inputCols=x_cols, outputCol='features') \n",
    "\n",
    "# inputCols=x_cols: This is a list of column names that contain the individual features (inputs)\n",
    "# outputCol='features': This specifies the name of the new column that will contain the vectorized features. \n",
    "\n",
    "\n",
    "df = assembler.transform(housing_data)\n",
    "\n",
    "# After this transformation, a new column named features will be created in the DataFrame."
   ]
  },
  {
   "cell_type": "code",
   "execution_count": 10,
   "id": "f7a99f9d-bcdd-4fab-be5c-147599235234",
   "metadata": {},
   "outputs": [
    {
     "data": {
      "text/plain": [
       "Column<'features'>"
      ]
     },
     "execution_count": 10,
     "metadata": {},
     "output_type": "execute_result"
    }
   ],
   "source": [
    "df['features']"
   ]
  },
  {
   "cell_type": "code",
   "execution_count": 11,
   "id": "cf3502a9-64e0-4a59-aff9-51268a1d7a79",
   "metadata": {},
   "outputs": [],
   "source": [
    "\n",
    "train_data, test_data = df.randomSplit([0.7, 0.3], seed=42)\n",
    "\n",
    "# 70% of the data will go to the training set, and 30% will be used for the test set.\n",
    "# train_data to train your model and test_data to evaluate its performance later.\n",
    "# Providing a seed ensures that the split is reproducible — meaning, if you run the code multiple times with the same seed, you'll get the same split of the data every time.\n",
    "\n",
    "lr = LinearRegression(featuresCol='features', labelCol=y_col)\n",
    "\n",
    "#This line creates an instance of the LinearRegression model from PySpark's MLlib \n",
    "#featuresCol='features', tells the LinearRegression model which column to use as the features\n",
    "# The Linear Regression model uses this column to train on.\n",
    "#labelCol=y_col, specifies which column to use as the label (the target variable we're trying to predict)"
   ]
  },
  {
   "cell_type": "code",
   "execution_count": 12,
   "id": "487fbe96-a0df-4194-875c-f9d844601ba7",
   "metadata": {},
   "outputs": [
    {
     "name": "stderr",
     "output_type": "stream",
     "text": [
      "25/02/25 11:31:50 WARN Instrumentation: [2ad3b4ef] regParam is zero, which might cause numerical instability and overfitting.\n",
      "25/02/25 11:31:50 WARN InstanceBuilder: Failed to load implementation from:dev.ludovic.netlib.blas.JNIBLAS\n",
      "25/02/25 11:31:50 WARN InstanceBuilder: Failed to load implementation from:dev.ludovic.netlib.lapack.JNILAPACK\n"
     ]
    }
   ],
   "source": [
    "model = lr.fit(train_data)\n",
    "\n",
    "# The fit() method is used to train the model. \n",
    "# It takes the training dataset (train_data) as input, which should contain both the features and the labels (target values).\n",
    "# This method learns the relationship between the features and the target variable in the training data by finding the best-fitting line that minimizes the error"
   ]
  },
  {
   "cell_type": "code",
   "execution_count": 34,
   "id": "d17776de-753e-4e1b-b319-e8b702820976",
   "metadata": {},
   "outputs": [
    {
     "name": "stdout",
     "output_type": "stream",
     "text": [
      "+-------+----+--------+---------+-------+--------+---------+--------+---------------+---------------+-------+--------+----------------+--------+------------------+\n",
      "|  price|area|bedrooms|bathrooms|stories|mainroad|guestroom|basement|hotwaterheating|airconditioning|parking|prefarea|furnishingstatus|features|        prediction|\n",
      "+-------+----+--------+---------+-------+--------+---------+--------+---------------+---------------+-------+--------+----------------+--------+------------------+\n",
      "|1750000|3850|       3|        1|      2|     yes|       no|      no|             no|             no|      0|      no|     unfurnished|[3850.0]| 4216153.227881096|\n",
      "|1890000|1700|       3|        1|      2|     yes|       no|      no|             no|             no|      0|      no|     unfurnished|[1700.0]| 3230882.925774414|\n",
      "|1960000|3420|       5|        1|      2|      no|       no|      no|             no|             no|      0|      no|     unfurnished|[3420.0]|  4019099.16745976|\n",
      "|2100000|2400|       3|        1|      2|     yes|       no|      no|             no|             no|      0|      no|     unfurnished|[2400.0]| 3551668.605530078|\n",
      "|2233000|5300|       3|        1|      1|      no|       no|      no|             no|            yes|      0|     yes|     unfurnished|[5300.0]| 4880637.850232115|\n",
      "|2240000|1950|       3|        1|      1|      no|       no|      no|            yes|             no|      0|      no|     unfurnished|[1950.0]| 3345449.239972865|\n",
      "|2275000|1836|       2|        1|      1|      no|       no|     yes|             no|             no|      0|      no|  semi-furnished|[1836.0]| 3293207.000698372|\n",
      "|2345000|3640|       2|        1|      1|     yes|       no|      no|             no|             no|      0|      no|     unfurnished|[3640.0]| 4119917.523954397|\n",
      "|2380000|2787|       4|        2|      2|     yes|       no|      no|             no|             no|      0|      no|       furnished|[2787.0]|3729017.2599092806|\n",
      "|2408000|3635|       2|        1|      1|      no|       no|      no|             no|             no|      0|      no|     unfurnished|[3635.0]| 4117626.197670428|\n",
      "|2450000|3000|       2|        1|      1|     yes|       no|      no|             no|             no|      1|      no|     unfurnished|[3000.0]|3826627.7596063614|\n",
      "|2450000|4840|       2|        1|      2|     yes|       no|      no|             no|             no|      0|      no|     unfurnished|[4840.0]| 4669835.832106965|\n",
      "|2450000|7700|       2|        1|      1|     yes|       no|      no|             no|             no|      0|      no|     unfurnished|[7700.0]| 5980474.466537248|\n",
      "|2485000|3000|       3|        1|      2|      no|       no|      no|             no|             no|      0|      no|  semi-furnished|[3000.0]|3826627.7596063614|\n",
      "|2520000|2880|       3|        1|      1|      no|       no|      no|             no|             no|      0|      no|     unfurnished|[2880.0]| 3771635.928791105|\n",
      "|2520000|3180|       3|        1|      1|      no|       no|      no|             no|             no|      0|      no|     unfurnished|[3180.0]|3909115.5058292467|\n",
      "|2590000|3600|       2|        1|      1|     yes|       no|      no|             no|             no|      0|      no|     unfurnished|[3600.0]| 4101586.913682645|\n",
      "|2653000|3185|       2|        1|      1|     yes|       no|      no|             no|            yes|      0|      no|     unfurnished|[3185.0]|3911406.8321132157|\n",
      "|2660000|2430|       3|        1|      1|      no|       no|      no|             no|             no|      0|      no|     unfurnished|[2430.0]|3565416.5632338924|\n",
      "|2660000|2800|       3|        1|      1|     yes|       no|      no|             no|             no|      0|      no|     unfurnished|[2800.0]|   3734974.7082476|\n",
      "+-------+----+--------+---------+-------+--------+---------+--------+---------------+---------------+-------+--------+----------------+--------+------------------+\n",
      "only showing top 20 rows\n",
      "\n"
     ]
    }
   ],
   "source": [
    "predictions = model.transform(test_data)\n",
    "\n",
    "#model is the trained Linear Regression model that you obtained after calling .fit(train_data) on the training data (train_data).\n",
    "#This model has learned the relationship between the input features and the target variable (based on the training data),\n",
    "#it now contains the learned coefficients and intercept, which it will use to make predictions.\n",
    "#The transform() method applies the trained model (model) to new data (in this case, test_data), and makes predictions.\n",
    "\n",
    "predictions.show()"
   ]
  },
  {
   "cell_type": "code",
   "execution_count": 38,
   "id": "7f163107-d7bb-4fd4-b837-4bf49cf97542",
   "metadata": {},
   "outputs": [
    {
     "data": {
      "text/plain": [
       "<matplotlib.collections.PathCollection at 0x146972410>"
      ]
     },
     "execution_count": 38,
     "metadata": {},
     "output_type": "execute_result"
    },
    {
     "data": {
      "image/png": "[encoded data removed]",
      "text/plain": [
       "<Figure size 640x480 with 1 Axes>"
      ]
     },
     "metadata": {},
     "output_type": "display_data"
    }
   ],
   "source": [
    "y_pred = predictions.select(\"prediction\").rdd.flatMap(lambda x: x).collect()\n",
    "\n",
    "# The predictions DataFrame contains the predicted values in a column named \"prediction\". This line selects that column from the predictions DataFrame.\n",
    "\n",
    "x = test_data.select(\"features\").rdd.flatMap(lambda x: x[0]).collect()\n",
    "y_true = test_data.select(\"price\").rdd.flatMap(lambda x: x).collect()\n",
    "# y_true\n",
    "plt.scatter(x, y_pred)\n",
    "plt.scatter(x, y_true)\n"
   ]
  },
  {
   "cell_type": "code",
   "execution_count": 42,
   "id": "00a199cd-aac6-4d3c-853c-e91fae6a9786",
   "metadata": {},
   "outputs": [],
   "source": [
    "pred_result = model.evaluate(test_data)"
   ]
  },
  {
   "cell_type": "code",
   "execution_count": 44,
   "id": "1e9d0f3c-ed36-4f48-912b-ba2337969376",
   "metadata": {},
   "outputs": [
    {
     "data": {
      "text/plain": [
       "0.28613415364503236"
      ]
     },
     "execution_count": 44,
     "metadata": {},
     "output_type": "execute_result"
    }
   ],
   "source": [
    "pred_result.r2"
   ]
  },
  {
   "cell_type": "code",
   "execution_count": null,
   "id": "9f3dce78-37bb-4a95-a7a7-e9b3efd559ff",
   "metadata": {},
   "outputs": [],
   "source": []
  }
 ],
 "metadata": {
  "kernelspec": {
   "display_name": "Python [conda env:base] *",
   "language": "python",
   "name": "conda-base-py"
  },
  "language_info": {
   "codemirror_mode": {
    "name": "ipython",
    "version": 3
   },
   "file_extension": ".py",
   "mimetype": "text/x-python",
   "name": "python",
   "nbconvert_exporter": "python",
   "pygments_lexer": "ipython3",
   "version": "3.11.8"
  }
 },
 "nbformat": 4,
 "nbformat_minor": 5
}
