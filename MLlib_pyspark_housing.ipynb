{
 "cells": [
  {
   "cell_type": "code",
   "execution_count": 1,
   "id": "3cf546d4-0c23-418f-ada8-74e837431b60",
   "metadata": {},
   "outputs": [],
   "source": [
    "import os \n",
    "import sys\n",
    "os.environ['PYSPARK_PYTHON'] = sys.executable \n",
    "os.environ['PYSPARK_DRIVER_PYTHON'] = sys.executable"
   ]
  },
  {
   "cell_type": "code",
   "execution_count": 2,
   "id": "f64ff5a4-01b2-4a50-8b3f-d6f7c130653e",
   "metadata": {},
   "outputs": [],
   "source": [
    "from pyspark.ml.regression import LinearRegression\n",
    "from pyspark.ml.feature import VectorAssembler #group dependent and independent features\n",
    "from pyspark import SparkContext, SparkConf\n",
    "from pyspark.sql import SparkSession"
   ]
  },
  {
   "cell_type": "code",
   "execution_count": 3,
   "id": "f9707d84-9032-4097-82f3-b591ab61e00c",
   "metadata": {},
   "outputs": [
    {
     "name": "stderr",
     "output_type": "stream",
     "text": [
      "Setting default log level to \"WARN\".\n",
      "To adjust logging level use sc.setLogLevel(newLevel). For SparkR, use setLogLevel(newLevel).\n",
      "25/02/25 10:50:05 WARN NativeCodeLoader: Unable to load native-hadoop library for your platform... using builtin-java classes where applicable\n"
     ]
    }
   ],
   "source": [
    "conf_spark = SparkConf().set(\"spark.driver.host\", \"127.0.0.1\")\n",
    "spark = SparkSession.builder.appName(\"Testing PySpark Example\").getOrCreate()"
   ]
  },
  {
   "cell_type": "code",
   "execution_count": 4,
   "id": "2e51a471-96d1-428c-a121-1bab33053ae7",
   "metadata": {},
   "outputs": [
    {
     "name": "stdout",
     "output_type": "stream",
     "text": [
      "+--------+-----+--------+---------+-------+--------+---------+--------+---------------+---------------+-------+--------+----------------+\n",
      "|   price| area|bedrooms|bathrooms|stories|mainroad|guestroom|basement|hotwaterheating|airconditioning|parking|prefarea|furnishingstatus|\n",
      "+--------+-----+--------+---------+-------+--------+---------+--------+---------------+---------------+-------+--------+----------------+\n",
      "|13300000| 7420|       4|        2|      3|     yes|       no|      no|             no|            yes|      2|     yes|       furnished|\n",
      "|12250000| 8960|       4|        4|      4|     yes|       no|      no|             no|            yes|      3|      no|       furnished|\n",
      "|12250000| 9960|       3|        2|      2|     yes|       no|     yes|             no|             no|      2|     yes|  semi-furnished|\n",
      "|12215000| 7500|       4|        2|      2|     yes|       no|     yes|             no|            yes|      3|     yes|       furnished|\n",
      "|11410000| 7420|       4|        1|      2|     yes|      yes|     yes|             no|            yes|      2|      no|       furnished|\n",
      "|10850000| 7500|       3|        3|      1|     yes|       no|     yes|             no|            yes|      2|     yes|  semi-furnished|\n",
      "|10150000| 8580|       4|        3|      4|     yes|       no|      no|             no|            yes|      2|     yes|  semi-furnished|\n",
      "|10150000|16200|       5|        3|      2|     yes|       no|      no|             no|             no|      0|      no|     unfurnished|\n",
      "| 9870000| 8100|       4|        1|      2|     yes|      yes|     yes|             no|            yes|      2|     yes|       furnished|\n",
      "| 9800000| 5750|       3|        2|      4|     yes|      yes|      no|             no|            yes|      1|     yes|     unfurnished|\n",
      "| 9800000|13200|       3|        1|      2|     yes|       no|     yes|             no|            yes|      2|     yes|       furnished|\n",
      "| 9681000| 6000|       4|        3|      2|     yes|      yes|     yes|            yes|             no|      2|      no|  semi-furnished|\n",
      "| 9310000| 6550|       4|        2|      2|     yes|       no|      no|             no|            yes|      1|     yes|  semi-furnished|\n",
      "| 9240000| 3500|       4|        2|      2|     yes|       no|      no|            yes|             no|      2|      no|       furnished|\n",
      "| 9240000| 7800|       3|        2|      2|     yes|       no|      no|             no|             no|      0|     yes|  semi-furnished|\n",
      "| 9100000| 6000|       4|        1|      2|     yes|       no|     yes|             no|             no|      2|      no|  semi-furnished|\n",
      "| 9100000| 6600|       4|        2|      2|     yes|      yes|     yes|             no|            yes|      1|     yes|     unfurnished|\n",
      "| 8960000| 8500|       3|        2|      4|     yes|       no|      no|             no|            yes|      2|      no|       furnished|\n",
      "| 8890000| 4600|       3|        2|      2|     yes|      yes|      no|             no|            yes|      2|      no|       furnished|\n",
      "| 8855000| 6420|       3|        2|      2|     yes|       no|      no|             no|            yes|      1|     yes|  semi-furnished|\n",
      "+--------+-----+--------+---------+-------+--------+---------+--------+---------------+---------------+-------+--------+----------------+\n",
      "only showing top 20 rows\n",
      "\n"
     ]
    }
   ],
   "source": [
    "file_location = \"/Users/prateekpaul/Downloads/Housing.csv\"\n",
    "file_type = \"csv\"\n",
    "\n",
    "df = spark.read.csv(file_location, header = True, inferSchema = True)\n",
    "df.show()"
   ]
  },
  {
   "cell_type": "code",
   "execution_count": 5,
   "id": "b1595bca-7d25-4bd2-bb19-03315137b843",
   "metadata": {},
   "outputs": [
    {
     "name": "stdout",
     "output_type": "stream",
     "text": [
      "root\n",
      " |-- price: integer (nullable = true)\n",
      " |-- area: integer (nullable = true)\n",
      " |-- bedrooms: integer (nullable = true)\n",
      " |-- bathrooms: integer (nullable = true)\n",
      " |-- stories: integer (nullable = true)\n",
      " |-- mainroad: string (nullable = true)\n",
      " |-- guestroom: string (nullable = true)\n",
      " |-- basement: string (nullable = true)\n",
      " |-- hotwaterheating: string (nullable = true)\n",
      " |-- airconditioning: string (nullable = true)\n",
      " |-- parking: integer (nullable = true)\n",
      " |-- prefarea: string (nullable = true)\n",
      " |-- furnishingstatus: string (nullable = true)\n",
      "\n"
     ]
    }
   ],
   "source": [
    "df.printSchema()  # dependent and independent feature"
   ]
  },
  {
   "cell_type": "code",
   "execution_count": 6,
   "id": "a18b3169-7e8d-44f1-85de-6decbba8aeb1",
   "metadata": {},
   "outputs": [
    {
     "data": {
      "text/plain": [
       "['price',\n",
       " 'area',\n",
       " 'bedrooms',\n",
       " 'bathrooms',\n",
       " 'stories',\n",
       " 'mainroad',\n",
       " 'guestroom',\n",
       " 'basement',\n",
       " 'hotwaterheating',\n",
       " 'airconditioning',\n",
       " 'parking',\n",
       " 'prefarea',\n",
       " 'furnishingstatus']"
      ]
     },
     "execution_count": 6,
     "metadata": {},
     "output_type": "execute_result"
    }
   ],
   "source": [
    "df.columns"
   ]
  },
  {
   "cell_type": "code",
   "execution_count": 7,
   "id": "3f6d30c2-54dd-4e4b-9a76-399bbd34ec29",
   "metadata": {},
   "outputs": [],
   "source": [
    "## handling categorical features\n",
    "\n",
    "from pyspark.ml.feature import StringIndexer"
   ]
  },
  {
   "cell_type": "code",
   "execution_count": 8,
   "id": "874dd066-2b36-4438-9aaa-ae468cac7793",
   "metadata": {
    "scrolled": true
   },
   "outputs": [
    {
     "name": "stdout",
     "output_type": "stream",
     "text": [
      "+--------+-----+--------+---------+-------+--------+---------+--------+---------------+---------------+-------+--------+----------------+-----------------+\n",
      "|   price| area|bedrooms|bathrooms|stories|mainroad|guestroom|basement|hotwaterheating|airconditioning|parking|prefarea|furnishingstatus|guestroom_indexed|\n",
      "+--------+-----+--------+---------+-------+--------+---------+--------+---------------+---------------+-------+--------+----------------+-----------------+\n",
      "|13300000| 7420|       4|        2|      3|     yes|       no|      no|             no|            yes|      2|     yes|       furnished|              0.0|\n",
      "|12250000| 8960|       4|        4|      4|     yes|       no|      no|             no|            yes|      3|      no|       furnished|              0.0|\n",
      "|12250000| 9960|       3|        2|      2|     yes|       no|     yes|             no|             no|      2|     yes|  semi-furnished|              0.0|\n",
      "|12215000| 7500|       4|        2|      2|     yes|       no|     yes|             no|            yes|      3|     yes|       furnished|              0.0|\n",
      "|11410000| 7420|       4|        1|      2|     yes|      yes|     yes|             no|            yes|      2|      no|       furnished|              1.0|\n",
      "|10850000| 7500|       3|        3|      1|     yes|       no|     yes|             no|            yes|      2|     yes|  semi-furnished|              0.0|\n",
      "|10150000| 8580|       4|        3|      4|     yes|       no|      no|             no|            yes|      2|     yes|  semi-furnished|              0.0|\n",
      "|10150000|16200|       5|        3|      2|     yes|       no|      no|             no|             no|      0|      no|     unfurnished|              0.0|\n",
      "| 9870000| 8100|       4|        1|      2|     yes|      yes|     yes|             no|            yes|      2|     yes|       furnished|              1.0|\n",
      "| 9800000| 5750|       3|        2|      4|     yes|      yes|      no|             no|            yes|      1|     yes|     unfurnished|              1.0|\n",
      "| 9800000|13200|       3|        1|      2|     yes|       no|     yes|             no|            yes|      2|     yes|       furnished|              0.0|\n",
      "| 9681000| 6000|       4|        3|      2|     yes|      yes|     yes|            yes|             no|      2|      no|  semi-furnished|              1.0|\n",
      "| 9310000| 6550|       4|        2|      2|     yes|       no|      no|             no|            yes|      1|     yes|  semi-furnished|              0.0|\n",
      "| 9240000| 3500|       4|        2|      2|     yes|       no|      no|            yes|             no|      2|      no|       furnished|              0.0|\n",
      "| 9240000| 7800|       3|        2|      2|     yes|       no|      no|             no|             no|      0|     yes|  semi-furnished|              0.0|\n",
      "| 9100000| 6000|       4|        1|      2|     yes|       no|     yes|             no|             no|      2|      no|  semi-furnished|              0.0|\n",
      "| 9100000| 6600|       4|        2|      2|     yes|      yes|     yes|             no|            yes|      1|     yes|     unfurnished|              1.0|\n",
      "| 8960000| 8500|       3|        2|      4|     yes|       no|      no|             no|            yes|      2|      no|       furnished|              0.0|\n",
      "| 8890000| 4600|       3|        2|      2|     yes|      yes|      no|             no|            yes|      2|      no|       furnished|              1.0|\n",
      "| 8855000| 6420|       3|        2|      2|     yes|       no|      no|             no|            yes|      1|     yes|  semi-furnished|              0.0|\n",
      "+--------+-----+--------+---------+-------+--------+---------+--------+---------------+---------------+-------+--------+----------------+-----------------+\n",
      "only showing top 20 rows\n",
      "\n"
     ]
    }
   ],
   "source": [
    "indexer = StringIndexer(inputCol=\"guestroom\", outputCol = \"guestroom_indexed\")\n",
    "df_lr = indexer.fit(df).transform(df)\n",
    "df_lr.show()  #ordinal input values"
   ]
  },
  {
   "cell_type": "code",
   "execution_count": 9,
   "id": "48f6411a-8651-4ad9-a4ba-506432c6015a",
   "metadata": {},
   "outputs": [
    {
     "name": "stdout",
     "output_type": "stream",
     "text": [
      "+--------+-----+--------+---------+-------+--------+---------+--------+---------------+---------------+-------+--------+----------------+-----------------+----------------+---------------+----------------+\n",
      "|   price| area|bedrooms|bathrooms|stories|mainroad|guestroom|basement|hotwaterheating|airconditioning|parking|prefarea|furnishingstatus|guestroom_indexed|basement_indexed|parking_indexed|prefarea_indexed|\n",
      "+--------+-----+--------+---------+-------+--------+---------+--------+---------------+---------------+-------+--------+----------------+-----------------+----------------+---------------+----------------+\n",
      "|13300000| 7420|       4|        2|      3|     yes|       no|      no|             no|            yes|      2|     yes|       furnished|              0.0|             0.0|            2.0|             1.0|\n",
      "|12250000| 8960|       4|        4|      4|     yes|       no|      no|             no|            yes|      3|      no|       furnished|              0.0|             0.0|            3.0|             0.0|\n",
      "|12250000| 9960|       3|        2|      2|     yes|       no|     yes|             no|             no|      2|     yes|  semi-furnished|              0.0|             1.0|            2.0|             1.0|\n",
      "|12215000| 7500|       4|        2|      2|     yes|       no|     yes|             no|            yes|      3|     yes|       furnished|              0.0|             1.0|            3.0|             1.0|\n",
      "|11410000| 7420|       4|        1|      2|     yes|      yes|     yes|             no|            yes|      2|      no|       furnished|              1.0|             1.0|            2.0|             0.0|\n",
      "|10850000| 7500|       3|        3|      1|     yes|       no|     yes|             no|            yes|      2|     yes|  semi-furnished|              0.0|             1.0|            2.0|             1.0|\n",
      "|10150000| 8580|       4|        3|      4|     yes|       no|      no|             no|            yes|      2|     yes|  semi-furnished|              0.0|             0.0|            2.0|             1.0|\n",
      "|10150000|16200|       5|        3|      2|     yes|       no|      no|             no|             no|      0|      no|     unfurnished|              0.0|             0.0|            0.0|             0.0|\n",
      "| 9870000| 8100|       4|        1|      2|     yes|      yes|     yes|             no|            yes|      2|     yes|       furnished|              1.0|             1.0|            2.0|             1.0|\n",
      "| 9800000| 5750|       3|        2|      4|     yes|      yes|      no|             no|            yes|      1|     yes|     unfurnished|              1.0|             0.0|            1.0|             1.0|\n",
      "| 9800000|13200|       3|        1|      2|     yes|       no|     yes|             no|            yes|      2|     yes|       furnished|              0.0|             1.0|            2.0|             1.0|\n",
      "| 9681000| 6000|       4|        3|      2|     yes|      yes|     yes|            yes|             no|      2|      no|  semi-furnished|              1.0|             1.0|            2.0|             0.0|\n",
      "| 9310000| 6550|       4|        2|      2|     yes|       no|      no|             no|            yes|      1|     yes|  semi-furnished|              0.0|             0.0|            1.0|             1.0|\n",
      "| 9240000| 3500|       4|        2|      2|     yes|       no|      no|            yes|             no|      2|      no|       furnished|              0.0|             0.0|            2.0|             0.0|\n",
      "| 9240000| 7800|       3|        2|      2|     yes|       no|      no|             no|             no|      0|     yes|  semi-furnished|              0.0|             0.0|            0.0|             1.0|\n",
      "| 9100000| 6000|       4|        1|      2|     yes|       no|     yes|             no|             no|      2|      no|  semi-furnished|              0.0|             1.0|            2.0|             0.0|\n",
      "| 9100000| 6600|       4|        2|      2|     yes|      yes|     yes|             no|            yes|      1|     yes|     unfurnished|              1.0|             1.0|            1.0|             1.0|\n",
      "| 8960000| 8500|       3|        2|      4|     yes|       no|      no|             no|            yes|      2|      no|       furnished|              0.0|             0.0|            2.0|             0.0|\n",
      "| 8890000| 4600|       3|        2|      2|     yes|      yes|      no|             no|            yes|      2|      no|       furnished|              1.0|             0.0|            2.0|             0.0|\n",
      "| 8855000| 6420|       3|        2|      2|     yes|       no|      no|             no|            yes|      1|     yes|  semi-furnished|              0.0|             0.0|            1.0|             1.0|\n",
      "+--------+-----+--------+---------+-------+--------+---------+--------+---------------+---------------+-------+--------+----------------+-----------------+----------------+---------------+----------------+\n",
      "only showing top 20 rows\n",
      "\n"
     ]
    }
   ],
   "source": [
    "indexer = StringIndexer(inputCols=[\"basement\", \"parking\", \"prefarea\"], outputCols = [\"basement_indexed\", \"parking_indexed\", \"prefarea_indexed\"])\n",
    "df_lr = indexer.fit(df_lr).transform(df_lr)\n",
    "df_lr.show() "
   ]
  },
  {
   "cell_type": "code",
   "execution_count": 10,
   "id": "c78adcdf-f372-40e6-a951-0251807da549",
   "metadata": {},
   "outputs": [
    {
     "data": {
      "text/plain": [
       "['price',\n",
       " 'area',\n",
       " 'bedrooms',\n",
       " 'bathrooms',\n",
       " 'stories',\n",
       " 'mainroad',\n",
       " 'guestroom',\n",
       " 'basement',\n",
       " 'hotwaterheating',\n",
       " 'airconditioning',\n",
       " 'parking',\n",
       " 'prefarea',\n",
       " 'furnishingstatus',\n",
       " 'guestroom_indexed',\n",
       " 'basement_indexed',\n",
       " 'parking_indexed',\n",
       " 'prefarea_indexed']"
      ]
     },
     "execution_count": 10,
     "metadata": {},
     "output_type": "execute_result"
    }
   ],
   "source": [
    "df_lr.columns"
   ]
  },
  {
   "cell_type": "code",
   "execution_count": 11,
   "id": "087ee637-55e1-42d0-8b5f-99663cb09222",
   "metadata": {},
   "outputs": [],
   "source": [
    "feature_assembler = VectorAssembler(inputCols= ['area', 'bedrooms', 'bathrooms', 'stories','guestroom_indexed','basement_indexed','parking_indexed','prefarea_indexed']\n",
    "                , outputCol = \"Independent Features\")\n",
    "\n",
    "output = feature_assembler.transform(df_lr)"
   ]
  },
  {
   "cell_type": "code",
   "execution_count": 12,
   "id": "60cfe6c8-27ed-438a-b5e7-d0cb43e8a2e3",
   "metadata": {},
   "outputs": [
    {
     "name": "stdout",
     "output_type": "stream",
     "text": [
      "+--------------------+\n",
      "|Independent Features|\n",
      "+--------------------+\n",
      "|[7420.0,4.0,2.0,3...|\n",
      "|[8960.0,4.0,4.0,4...|\n",
      "|[9960.0,3.0,2.0,2...|\n",
      "|[7500.0,4.0,2.0,2...|\n",
      "|[7420.0,4.0,1.0,2...|\n",
      "|[7500.0,3.0,3.0,1...|\n",
      "|[8580.0,4.0,3.0,4...|\n",
      "|(8,[0,1,2,3],[162...|\n",
      "|[8100.0,4.0,1.0,2...|\n",
      "|[5750.0,3.0,2.0,4...|\n",
      "|[13200.0,3.0,1.0,...|\n",
      "|[6000.0,4.0,3.0,2...|\n",
      "|[6550.0,4.0,2.0,2...|\n",
      "|[3500.0,4.0,2.0,2...|\n",
      "|[7800.0,3.0,2.0,2...|\n",
      "|[6000.0,4.0,1.0,2...|\n",
      "|[6600.0,4.0,2.0,2...|\n",
      "|[8500.0,3.0,2.0,4...|\n",
      "|[4600.0,3.0,2.0,2...|\n",
      "|[6420.0,3.0,2.0,2...|\n",
      "+--------------------+\n",
      "only showing top 20 rows\n",
      "\n"
     ]
    }
   ],
   "source": [
    "output.select('Independent Features').show()"
   ]
  },
  {
   "cell_type": "code",
   "execution_count": 13,
   "id": "c9ca6674-12dd-4dba-9ea2-8cb824bb3069",
   "metadata": {},
   "outputs": [
    {
     "name": "stdout",
     "output_type": "stream",
     "text": [
      "+--------+-----+--------+---------+-------+--------+---------+--------+---------------+---------------+-------+--------+----------------+-----------------+----------------+---------------+----------------+--------------------+\n",
      "|   price| area|bedrooms|bathrooms|stories|mainroad|guestroom|basement|hotwaterheating|airconditioning|parking|prefarea|furnishingstatus|guestroom_indexed|basement_indexed|parking_indexed|prefarea_indexed|Independent Features|\n",
      "+--------+-----+--------+---------+-------+--------+---------+--------+---------------+---------------+-------+--------+----------------+-----------------+----------------+---------------+----------------+--------------------+\n",
      "|13300000| 7420|       4|        2|      3|     yes|       no|      no|             no|            yes|      2|     yes|       furnished|              0.0|             0.0|            2.0|             1.0|[7420.0,4.0,2.0,3...|\n",
      "|12250000| 8960|       4|        4|      4|     yes|       no|      no|             no|            yes|      3|      no|       furnished|              0.0|             0.0|            3.0|             0.0|[8960.0,4.0,4.0,4...|\n",
      "|12250000| 9960|       3|        2|      2|     yes|       no|     yes|             no|             no|      2|     yes|  semi-furnished|              0.0|             1.0|            2.0|             1.0|[9960.0,3.0,2.0,2...|\n",
      "|12215000| 7500|       4|        2|      2|     yes|       no|     yes|             no|            yes|      3|     yes|       furnished|              0.0|             1.0|            3.0|             1.0|[7500.0,4.0,2.0,2...|\n",
      "|11410000| 7420|       4|        1|      2|     yes|      yes|     yes|             no|            yes|      2|      no|       furnished|              1.0|             1.0|            2.0|             0.0|[7420.0,4.0,1.0,2...|\n",
      "|10850000| 7500|       3|        3|      1|     yes|       no|     yes|             no|            yes|      2|     yes|  semi-furnished|              0.0|             1.0|            2.0|             1.0|[7500.0,3.0,3.0,1...|\n",
      "|10150000| 8580|       4|        3|      4|     yes|       no|      no|             no|            yes|      2|     yes|  semi-furnished|              0.0|             0.0|            2.0|             1.0|[8580.0,4.0,3.0,4...|\n",
      "|10150000|16200|       5|        3|      2|     yes|       no|      no|             no|             no|      0|      no|     unfurnished|              0.0|             0.0|            0.0|             0.0|(8,[0,1,2,3],[162...|\n",
      "| 9870000| 8100|       4|        1|      2|     yes|      yes|     yes|             no|            yes|      2|     yes|       furnished|              1.0|             1.0|            2.0|             1.0|[8100.0,4.0,1.0,2...|\n",
      "| 9800000| 5750|       3|        2|      4|     yes|      yes|      no|             no|            yes|      1|     yes|     unfurnished|              1.0|             0.0|            1.0|             1.0|[5750.0,3.0,2.0,4...|\n",
      "| 9800000|13200|       3|        1|      2|     yes|       no|     yes|             no|            yes|      2|     yes|       furnished|              0.0|             1.0|            2.0|             1.0|[13200.0,3.0,1.0,...|\n",
      "| 9681000| 6000|       4|        3|      2|     yes|      yes|     yes|            yes|             no|      2|      no|  semi-furnished|              1.0|             1.0|            2.0|             0.0|[6000.0,4.0,3.0,2...|\n",
      "| 9310000| 6550|       4|        2|      2|     yes|       no|      no|             no|            yes|      1|     yes|  semi-furnished|              0.0|             0.0|            1.0|             1.0|[6550.0,4.0,2.0,2...|\n",
      "| 9240000| 3500|       4|        2|      2|     yes|       no|      no|            yes|             no|      2|      no|       furnished|              0.0|             0.0|            2.0|             0.0|[3500.0,4.0,2.0,2...|\n",
      "| 9240000| 7800|       3|        2|      2|     yes|       no|      no|             no|             no|      0|     yes|  semi-furnished|              0.0|             0.0|            0.0|             1.0|[7800.0,3.0,2.0,2...|\n",
      "| 9100000| 6000|       4|        1|      2|     yes|       no|     yes|             no|             no|      2|      no|  semi-furnished|              0.0|             1.0|            2.0|             0.0|[6000.0,4.0,1.0,2...|\n",
      "| 9100000| 6600|       4|        2|      2|     yes|      yes|     yes|             no|            yes|      1|     yes|     unfurnished|              1.0|             1.0|            1.0|             1.0|[6600.0,4.0,2.0,2...|\n",
      "| 8960000| 8500|       3|        2|      4|     yes|       no|      no|             no|            yes|      2|      no|       furnished|              0.0|             0.0|            2.0|             0.0|[8500.0,3.0,2.0,4...|\n",
      "| 8890000| 4600|       3|        2|      2|     yes|      yes|      no|             no|            yes|      2|      no|       furnished|              1.0|             0.0|            2.0|             0.0|[4600.0,3.0,2.0,2...|\n",
      "| 8855000| 6420|       3|        2|      2|     yes|       no|      no|             no|            yes|      1|     yes|  semi-furnished|              0.0|             0.0|            1.0|             1.0|[6420.0,3.0,2.0,2...|\n",
      "+--------+-----+--------+---------+-------+--------+---------+--------+---------------+---------------+-------+--------+----------------+-----------------+----------------+---------------+----------------+--------------------+\n",
      "only showing top 20 rows\n",
      "\n"
     ]
    }
   ],
   "source": [
    "output.show()"
   ]
  },
  {
   "cell_type": "code",
   "execution_count": 14,
   "id": "0cfb8cff-c557-4ccc-8677-3f05bd61eaff",
   "metadata": {},
   "outputs": [],
   "source": [
    "finalized_data = output.select(\"Independent Features\", \"price\")"
   ]
  },
  {
   "cell_type": "code",
   "execution_count": 15,
   "id": "77d2d64f-7f94-4b76-ac01-1e46bb43c70d",
   "metadata": {},
   "outputs": [
    {
     "name": "stdout",
     "output_type": "stream",
     "text": [
      "+--------------------+--------+\n",
      "|Independent Features|   price|\n",
      "+--------------------+--------+\n",
      "|[7420.0,4.0,2.0,3...|13300000|\n",
      "|[8960.0,4.0,4.0,4...|12250000|\n",
      "|[9960.0,3.0,2.0,2...|12250000|\n",
      "|[7500.0,4.0,2.0,2...|12215000|\n",
      "|[7420.0,4.0,1.0,2...|11410000|\n",
      "|[7500.0,3.0,3.0,1...|10850000|\n",
      "|[8580.0,4.0,3.0,4...|10150000|\n",
      "|(8,[0,1,2,3],[162...|10150000|\n",
      "|[8100.0,4.0,1.0,2...| 9870000|\n",
      "|[5750.0,3.0,2.0,4...| 9800000|\n",
      "|[13200.0,3.0,1.0,...| 9800000|\n",
      "|[6000.0,4.0,3.0,2...| 9681000|\n",
      "|[6550.0,4.0,2.0,2...| 9310000|\n",
      "|[3500.0,4.0,2.0,2...| 9240000|\n",
      "|[7800.0,3.0,2.0,2...| 9240000|\n",
      "|[6000.0,4.0,1.0,2...| 9100000|\n",
      "|[6600.0,4.0,2.0,2...| 9100000|\n",
      "|[8500.0,3.0,2.0,4...| 8960000|\n",
      "|[4600.0,3.0,2.0,2...| 8890000|\n",
      "|[6420.0,3.0,2.0,2...| 8855000|\n",
      "+--------------------+--------+\n",
      "only showing top 20 rows\n",
      "\n"
     ]
    }
   ],
   "source": [
    "finalized_data.show()"
   ]
  },
  {
   "cell_type": "code",
   "execution_count": 16,
   "id": "2bf3b6f3-b0bf-4438-8d45-ed8ba7f1fbaf",
   "metadata": {},
   "outputs": [
    {
     "name": "stderr",
     "output_type": "stream",
     "text": [
      "25/02/25 10:50:09 WARN Instrumentation: [e47bed90] regParam is zero, which might cause numerical instability and overfitting.\n",
      "25/02/25 10:50:09 WARN InstanceBuilder: Failed to load implementation from:dev.ludovic.netlib.blas.JNIBLAS\n",
      "25/02/25 10:50:09 WARN InstanceBuilder: Failed to load implementation from:dev.ludovic.netlib.lapack.JNILAPACK\n"
     ]
    }
   ],
   "source": [
    "## train test split\n",
    "\n",
    "train_data, test_data = finalized_data.randomSplit([0.7, 0.3], seed=42)\n",
    "lr = LinearRegression(featuresCol='Independent Features', labelCol = 'price')\n",
    "regressor_model = lr.fit(train_data)"
   ]
  },
  {
   "cell_type": "code",
   "execution_count": 17,
   "id": "10fc46d3-44e5-4fe7-970c-b0e61a489342",
   "metadata": {},
   "outputs": [
    {
     "data": {
      "text/plain": [
       "DenseVector([288.9593, 94722.2292, 1017496.5858, 601078.4562, 266473.1044, 423340.1135, 305785.0169, 742597.1194])"
      ]
     },
     "execution_count": 17,
     "metadata": {},
     "output_type": "execute_result"
    }
   ],
   "source": [
    "regressor_model.coefficients"
   ]
  },
  {
   "cell_type": "code",
   "execution_count": 18,
   "id": "e7297e2a-bb65-438a-b4c3-03050e682da2",
   "metadata": {},
   "outputs": [
    {
     "data": {
      "text/plain": [
       "-41576.470027862924"
      ]
     },
     "execution_count": 18,
     "metadata": {},
     "output_type": "execute_result"
    }
   ],
   "source": [
    "regressor_model.intercept"
   ]
  },
  {
   "cell_type": "code",
   "execution_count": 19,
   "id": "589b3f34-4484-4b31-b977-2ddec2612be6",
   "metadata": {},
   "outputs": [],
   "source": [
    "### predictions\n",
    "\n",
    "pred_result = regressor_model.evaluate(test_data)"
   ]
  },
  {
   "cell_type": "code",
   "execution_count": 20,
   "id": "2d66b2f8-8702-497f-a34c-0e4461c43fe3",
   "metadata": {},
   "outputs": [
    {
     "name": "stdout",
     "output_type": "stream",
     "text": [
      "+--------------------+-------+------------------+\n",
      "|Independent Features|  price|        prediction|\n",
      "+--------------------+-------+------------------+\n",
      "|(8,[0,1,2,3],[200...|2660000| 2945440.094615579|\n",
      "|(8,[0,1,2,3],[240...|2100000|3155746.0454283934|\n",
      "|(8,[0,1,2,3],[247...|2380000|3177417.9932361143|\n",
      "|(8,[0,1,2,3],[250...|3290000|2488841.2905145655|\n",
      "|(8,[0,1,2,3],[274...|4200000| 4368233.738913052|\n",
      "|(8,[0,1,2,3],[278...|2380000|  4379792.11107717|\n",
      "|(8,[0,1,2,3],[280...|2660000| 2670251.310917085|\n",
      "|(8,[0,1,2,3],[291...|1750000|2702036.8343684096|\n",
      "|(8,[0,1,2,3],[300...|2135000|  2633320.94256604|\n",
      "|(8,[0,1,2,3],[300...|2961000|3234399.3987185275|\n",
      "|(8,[0,1,2,3],[300...|3640000|3234399.3987185275|\n",
      "|(8,[0,1,2,3],[300...|2100000|3423843.8570617973|\n",
      "|(8,[0,1,2,3],[304...|2870000| 2644879.314730158|\n",
      "|(8,[0,1,2,3],[306...|3465000| 2745380.729983852|\n",
      "|(8,[0,1,2,3],[312...|3220000|3363796.7443825165|\n",
      "|(8,[0,1,2,3],[318...|2310000| 2685333.617304571|\n",
      "|(8,[0,1,2,3],[318...|2520000|2780055.8464762056|\n",
      "|(8,[0,1,2,3],[335...|3836000|3430257.3843261944|\n",
      "|(8,[0,1,2,3],[342...|1960000|3639928.9939566706|\n",
      "|(8,[0,1,2,3],[345...|3150000|2668630.4002407314|\n",
      "+--------------------+-------+------------------+\n",
      "only showing top 20 rows\n",
      "\n"
     ]
    }
   ],
   "source": [
    "## final comparison\n",
    "\n",
    "pred_result.predictions.show()"
   ]
  },
  {
   "cell_type": "code",
   "execution_count": 21,
   "id": "0761dde9-324e-46b2-a541-41da65bb8e51",
   "metadata": {},
   "outputs": [
    {
     "data": {
      "text/plain": [
       "0.7096604317074737"
      ]
     },
     "execution_count": 21,
     "metadata": {},
     "output_type": "execute_result"
    }
   ],
   "source": [
    "pred_result.r2 # performance matrix"
   ]
  },
  {
   "cell_type": "code",
   "execution_count": 22,
   "id": "80fe088d-58db-4a46-98b6-10f790ddd01d",
   "metadata": {},
   "outputs": [
    {
     "data": {
      "text/plain": [
       "(779453.240768702, 1205323569215.0828)"
      ]
     },
     "execution_count": 22,
     "metadata": {},
     "output_type": "execute_result"
    }
   ],
   "source": [
    "pred_result.meanAbsoluteError , pred_result.meanSquaredError"
   ]
  },
  {
   "cell_type": "code",
   "execution_count": null,
   "id": "928e315d-274d-45b4-9ed7-79b54aaeb614",
   "metadata": {},
   "outputs": [],
   "source": []
  }
 ],
 "metadata": {
  "kernelspec": {
   "display_name": "Python [conda env:base] *",
   "language": "python",
   "name": "conda-base-py"
  },
  "language_info": {
   "codemirror_mode": {
    "name": "ipython",
    "version": 3
   },
   "file_extension": ".py",
   "mimetype": "text/x-python",
   "name": "python",
   "nbconvert_exporter": "python",
   "pygments_lexer": "ipython3",
   "version": "3.11.8"
  }
 },
 "nbformat": 4,
 "nbformat_minor": 5
}
