{
 "cells": [
  {
   "cell_type": "markdown",
   "id": "afd13a4f",
   "metadata": {},
   "source": [
    "# Calculating compound interest\n",
    "\n",
    "First, we define the input variables from the formula from Wikipedia."
   ]
  },
  {
   "cell_type": "code",
   "execution_count": 1,
   "id": "e46d9dc4",
   "metadata": {},
   "outputs": [],
   "source": [
    "P = 10000.0   # principle amount\n",
    "r = 0.10      # 10% interest rate\n",
    "n = 2         # compounding frequency is twice per year\n",
    "t = 30        # length of time is 30 years"
   ]
  },
  {
   "cell_type": "markdown",
   "id": "443c81b9",
   "metadata": {},
   "source": [
    "Calculate the output variable using formula."
   ]
  },
  {
   "cell_type": "code",
   "execution_count": 2,
   "id": "0b751b25",
   "metadata": {},
   "outputs": [],
   "source": [
    "A = P * (1 + (r/n)) ** (r * t)"
   ]
  },
  {
   "cell_type": "markdown",
   "id": "05202ead",
   "metadata": {},
   "source": [
    "Check the value of final amount"
   ]
  },
  {
   "cell_type": "code",
   "execution_count": 3,
   "id": "1502d704",
   "metadata": {},
   "outputs": [
    {
     "data": {
      "text/plain": [
       "11576.250000000002"
      ]
     },
     "execution_count": 3,
     "metadata": {},
     "output_type": "execute_result"
    }
   ],
   "source": [
    "A"
   ]
  },
  {
   "cell_type": "markdown",
   "id": "da9b3848",
   "metadata": {},
   "source": [
    "Round the value to 2 decimal points using the `round()` function."
   ]
  },
  {
   "cell_type": "code",
   "execution_count": 5,
   "id": "f7c0106d",
   "metadata": {},
   "outputs": [
    {
     "data": {
      "text/plain": [
       "11576.25"
      ]
     },
     "execution_count": 5,
     "metadata": {},
     "output_type": "execute_result"
    }
   ],
   "source": [
    "round(A, 2)"
   ]
  },
  {
   "cell_type": "markdown",
   "id": "63a28ac1",
   "metadata": {},
   "source": [
    "Following code is used to get a value for variables from users using the `input()` function."
   ]
  },
  {
   "cell_type": "code",
   "execution_count": 6,
   "id": "d27cd8d3",
   "metadata": {},
   "outputs": [
    {
     "name": "stdout",
     "output_type": "stream",
     "text": [
      "Please provide the priniple amount:100000\n"
     ]
    }
   ],
   "source": [
    "P = input('Please provide the priniple amount:')"
   ]
  },
  {
   "cell_type": "markdown",
   "id": "f8e50a3f",
   "metadata": {},
   "source": [
    "Chech the value of *P* and notice that it is a string"
   ]
  },
  {
   "cell_type": "code",
   "execution_count": 7,
   "id": "c03a42ce",
   "metadata": {},
   "outputs": [
    {
     "data": {
      "text/plain": [
       "'100000'"
      ]
     },
     "execution_count": 7,
     "metadata": {},
     "output_type": "execute_result"
    }
   ],
   "source": [
    "P"
   ]
  },
  {
   "cell_type": "markdown",
   "id": "9fcbbfe5",
   "metadata": {},
   "source": [
    "Covert input value to a real number"
   ]
  },
  {
   "cell_type": "code",
   "execution_count": 8,
   "id": "d8e22350",
   "metadata": {},
   "outputs": [
    {
     "data": {
      "text/plain": [
       "100000.0"
      ]
     },
     "execution_count": 8,
     "metadata": {},
     "output_type": "execute_result"
    }
   ],
   "source": [
    "P = float(P)\n",
    "P"
   ]
  },
  {
   "cell_type": "markdown",
   "id": "1027fdc2",
   "metadata": {},
   "source": [
    "Extend the above code by using the `input()` function to get values of all input variables from users."
   ]
  }
 ],
 "metadata": {
  "kernelspec": {
   "display_name": "Python 3 (ipykernel)",
   "language": "python",
   "name": "python3"
  },
  "language_info": {
   "codemirror_mode": {
    "name": "ipython",
    "version": 3
   },
   "file_extension": ".py",
   "mimetype": "text/x-python",
   "name": "python",
   "nbconvert_exporter": "python",
   "pygments_lexer": "ipython3",
   "version": "3.9.13"
  }
 },
 "nbformat": 4,
 "nbformat_minor": 5
}
