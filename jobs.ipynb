{
 "cells": [
  {
   "cell_type": "markdown",
   "id": "b3a6ee96",
   "metadata": {},
   "source": [
    "# Job application code\n",
    "\n",
    "First, we create the of jobs by creating each job as dictionary and then adding them to a list."
   ]
  },
  {
   "cell_type": "code",
   "execution_count": 42,
   "id": "b29da013",
   "metadata": {},
   "outputs": [],
   "source": [
    "# Following two variables represent two jobs\n",
    "job1 = {'company': 'SAP', 'salary':80000, 'applied': False}\n",
    "job2 = {'company': 'Microsoft', 'salary':70000, 'applied': False}\n",
    "job3 = {'company': 'Google', 'salary':60000, 'applied': False}\n",
    "\n",
    "# This varaibles points to the list of jobs\n",
    "all_jobs = [job1, job2, job3]"
   ]
  },
  {
   "cell_type": "markdown",
   "id": "3b476ba2",
   "metadata": {},
   "source": [
    "We can check if the list of correct."
   ]
  },
  {
   "cell_type": "code",
   "execution_count": 43,
   "id": "f325c6c3",
   "metadata": {},
   "outputs": [
    {
     "data": {
      "text/plain": [
       "[{'company': 'SAP', 'salary': 80000, 'applied': False},\n",
       " {'company': 'Microsoft', 'salary': 70000, 'applied': False},\n",
       " {'company': 'Google', 'salary': 60000, 'applied': False}]"
      ]
     },
     "execution_count": 43,
     "metadata": {},
     "output_type": "execute_result"
    }
   ],
   "source": [
    "all_jobs"
   ]
  },
  {
   "cell_type": "markdown",
   "id": "3eeee3cf",
   "metadata": {},
   "source": [
    "We can also retieve a job by its index."
   ]
  },
  {
   "cell_type": "code",
   "execution_count": 44,
   "id": "e1a4132c",
   "metadata": {},
   "outputs": [
    {
     "data": {
      "text/plain": [
       "{'company': 'SAP', 'salary': 80000, 'applied': False}"
      ]
     },
     "execution_count": 44,
     "metadata": {},
     "output_type": "execute_result"
    }
   ],
   "source": [
    "all_jobs[0]"
   ]
  },
  {
   "cell_type": "markdown",
   "id": "d4b7b026",
   "metadata": {},
   "source": [
    "Then, we define a funtion to list our favourite jobs."
   ]
  },
  {
   "cell_type": "code",
   "execution_count": 45,
   "id": "cea4266d",
   "metadata": {},
   "outputs": [],
   "source": [
    "# This function take two auguments i.e. list to jobs and salary cut of point\n",
    "def list_jobs(jobs, salary_cutoff_point):\n",
    "    \n",
    "    # Create a variable with empty list\n",
    "    fav_job = []\n",
    "    \n",
    "    # Iterate through all jobs\n",
    "    for j in jobs:\n",
    "        # Check if the salary of job is above cut off\n",
    "        if j['salary'] > salary_cutoff_point:\n",
    "            # Add this job to the favourite list\n",
    "            fav_job.append(j)\n",
    "    \n",
    "    # Return the list of favourite jobs to the function caller\n",
    "    return fav_job"
   ]
  },
  {
   "cell_type": "markdown",
   "id": "d84649f6",
   "metadata": {},
   "source": [
    "Call the above function to find our favourite jobs base on specified salary cutoff point."
   ]
  },
  {
   "cell_type": "code",
   "execution_count": 46,
   "id": "0a86048f",
   "metadata": {},
   "outputs": [
    {
     "data": {
      "text/plain": [
       "[{'company': 'SAP', 'salary': 80000, 'applied': False}]"
      ]
     },
     "execution_count": 46,
     "metadata": {},
     "output_type": "execute_result"
    }
   ],
   "source": [
    "list_jobs(all_jobs, 75000)"
   ]
  },
  {
   "cell_type": "code",
   "execution_count": null,
   "id": "10f00a4f",
   "metadata": {},
   "outputs": [],
   "source": []
  }
 ],
 "metadata": {
  "kernelspec": {
   "display_name": "Python 3 (ipykernel)",
   "language": "python",
   "name": "python3"
  },
  "language_info": {
   "codemirror_mode": {
    "name": "ipython",
    "version": 3
   },
   "file_extension": ".py",
   "mimetype": "text/x-python",
   "name": "python",
   "nbconvert_exporter": "python",
   "pygments_lexer": "ipython3",
   "version": "3.9.13"
  }
 },
 "nbformat": 4,
 "nbformat_minor": 5
}
