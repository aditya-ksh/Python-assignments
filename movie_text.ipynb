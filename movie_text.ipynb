{
  "nbformat": 4,
  "nbformat_minor": 0,
  "metadata": {
    "colab": {
      "provenance": []
    },
    "kernelspec": {
      "name": "python3",
      "display_name": "Python 3"
    },
    "language_info": {
      "name": "python"
    }
  },
  "cells": [
    {
      "cell_type": "code",
      "execution_count": null,
      "metadata": {
        "colab": {
          "base_uri": "https://localhost:8080/"
        },
        "id": "xekgVH0a1oDg",
        "outputId": "252a83b1-7de0-464e-f02a-3b42768ea1ab"
      },
      "outputs": [
        {
          "output_type": "stream",
          "name": "stdout",
          "text": [
            "The Matrix is a 1999 science fiction action film written and directed by the Wachowskis. It is the first installment in the Matrix film series, starring Keanu Reeves, Laurence Fishburne, Carrie-Anne Moss, Hugo Weaving, and Joe Pantoliano, and depicts a dystopian future in which humanity is unknowingly trapped inside the Matrix, a simulated reality that intelligent machines have created to distract humans while using their bodies as an energy source. When computer programmer Thomas Anderson, under the hacker alias \"Neo\", uncovers the truth, he joins a rebellion against the machines along with other people who have been freed from the Matrix.\n",
            "The Matrix is an example of the cyberpunk subgenre of science fiction. The Wachowskis' approach to action scenes was influenced by anime and martial arts films, the use of fight choreographers and wire fu techniques from Hong Kong action cinema influenced the Matrix film series and some other Hollywood action films, Plato's Cave, and 90's Telnet hacker communities. The film popularized terms such as red pill, and introduced a visual effect known as \"bullet time\", in which the heightened perception of certain characters is represented by allowing the action within a shot to progress in slow-motion while the camera appears to move through the scene at normal speed, allowing the sped-up movements of certain characters to be perceived normally.\n",
            "The Matrix opened in theaters in the United States on March 31, 1999, to widespread acclaim from critics, who praised its innovative visual effects, action sequences, cinematography and entertainment value, and was a massive success at the box office, grossing over $460 million on a $63 million budget, becoming the highest-grossing Warner Bros. film of 1999 and the fourth highest-grossing film of that year. At the 72nd Academy Awards, the film won all four categories it was nominated for, Best Visual Effects, Best Film Editing, Best Sound, and Best Sound Editing. The film was also the recipient of numerous other accolades, including Best Sound and Best Special Visual Effects at the 53rd British Academy Film Awards, and the Wachowskis were awarded Best Director and Best Science Fiction Film at the 26th Saturn Awards. The film is considered to be among the greatest science fiction films of all time, and in 2012, the film was selected for preservation in the United States National Film Registry by the Library of Congress for being \"culturally, historically, and aesthetically significant.\"The film's success led to two feature film sequels being released in 2003, The Matrix Reloaded and The Matrix Revolutions, which were also written and directed by the Wachowskis. The Matrix franchise was further expanded through the production of comic books, video games, and an animated anthology film, The Animatrix, with which the Wachowskis were heavily involved. The franchise has also inspired books and theories expanding on some of the religious and philosophical ideas alluded to in the films. A fourth film, titled The Matrix Resurrections, was released on December 22, 2021.\n"
          ]
        }
      ],
      "source": [
        "import requests\n",
        "response = requests.get(\n",
        "    'https://en.wikipedia.org/w/api.php',\n",
        "    params={\n",
        "        'action': 'query',\n",
        "        'format': 'json',\n",
        "        'titles': 'The Matrix',\n",
        "        'prop': 'extracts',\n",
        "        'exintro': True,\n",
        "        'explaintext': True,\n",
        "        }\n",
        "    ).json()\n",
        "\n",
        "page = next(iter(response['query']['pages'].values()))\n",
        "print(page['extract'])"
      ]
    },
    {
      "cell_type": "code",
      "source": [
        "import re\n",
        "dollers = re.compile('\\$[0-9]+\\s[a-z]+')"
      ],
      "metadata": {
        "id": "Kr_b4i7v2QUT"
      },
      "execution_count": null,
      "outputs": []
    },
    {
      "cell_type": "code",
      "source": [
        "dollers.findall(page['extract'])"
      ],
      "metadata": {
        "colab": {
          "base_uri": "https://localhost:8080/"
        },
        "id": "aQIBPkI92gEa",
        "outputId": "5f1d7fc9-e73b-4919-d1a8-619b7c8f1f74"
      },
      "execution_count": null,
      "outputs": [
        {
          "output_type": "execute_result",
          "data": {
            "text/plain": [
              "['$460 million', '$63 million']"
            ]
          },
          "metadata": {},
          "execution_count": 15
        }
      ]
    }
  ]
}