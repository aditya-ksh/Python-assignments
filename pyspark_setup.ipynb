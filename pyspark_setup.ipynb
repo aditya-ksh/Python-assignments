{
 "cells": [
  {
   "cell_type": "markdown",
   "id": "00eb981a",
   "metadata": {},
   "source": [
    "# Installation and Test of PySpark\n",
    "\n",
    "__Author: Umair ul Hassan__\n",
    "\n",
    "> Note: Your Python version must be between 3.9-3.11 to work with PySpark; otherwise, you will recieve errors. \n",
    "\n",
    "In Anaconda Navigator, create a new environment with Python 3.11. The install OpenJDK and PySpark libraries. You can either use Anaconda Navigator or use following commands in terminal.\n",
    "\n",
    "* For OpenJDK: `conda install openjdk`\n",
    "* For PySpark: `conda install pyspark`\n",
    "\n",
    "Then test your installation by running followin code blocks."
   ]
  },
  {
   "cell_type": "code",
   "execution_count": 1,
   "id": "41ecba6c-445a-4f40-96d4-2818347f2e75",
   "metadata": {},
   "outputs": [],
   "source": [
    "import os\n",
    "import sys\n",
    "\n",
    "os.environ['PYSPARK_PYTHON'] = sys.executable\n",
    "os.environ['PYSPARK_DRIVER_PYTHON'] = sys.executable"
   ]
  },
  {
   "cell_type": "code",
   "execution_count": 6,
   "id": "369888d8-5241-4da5-813a-a837ab444003",
   "metadata": {},
   "outputs": [],
   "source": [
    "from pyspark.sql import SparkSession\n",
    "\n",
    "# Create a SparkSession\n",
    "spark = SparkSession.builder.appName(\"Testing PySpark Example\").getOrCreate()"
   ]
  },
  {
   "cell_type": "code",
   "execution_count": 7,
   "id": "b63f016a-07af-4eb3-9e1d-2374fdd6937d",
   "metadata": {},
   "outputs": [],
   "source": [
    "sample_data = [{\"name\": \"John    D.\", \"age\": 30},\n",
    "  {\"name\": \"Alice   G.\", \"age\": 25},\n",
    "  {\"name\": \"Bob  T.\", \"age\": 35},\n",
    "  {\"name\": \"Eve   A.\", \"age\": 28}]\n",
    "\n",
    "df = spark.createDataFrame(sample_data)"
   ]
  },
  {
   "cell_type": "code",
   "execution_count": 8,
   "id": "393ef9e2-cd95-4e4e-91f2-20bea953f2dd",
   "metadata": {},
   "outputs": [
    {
     "name": "stdout",
     "output_type": "stream",
     "text": [
      "+---+----------+\n",
      "|age|      name|\n",
      "+---+----------+\n",
      "| 30|John    D.|\n",
      "| 25|Alice   G.|\n",
      "| 35|   Bob  T.|\n",
      "| 28|  Eve   A.|\n",
      "+---+----------+\n",
      "\n"
     ]
    }
   ],
   "source": [
    "df.show()"
   ]
  },
  {
   "cell_type": "code",
   "execution_count": null,
   "id": "c2f16fac-0b0e-497e-9547-406309d4dd03",
   "metadata": {},
   "outputs": [],
   "source": []
  }
 ],
 "metadata": {
  "kernelspec": {
   "display_name": "Python 3 (ipykernel)",
   "language": "python",
   "name": "python3"
  },
  "language_info": {
   "codemirror_mode": {
    "name": "ipython",
    "version": 3
   },
   "file_extension": ".py",
   "mimetype": "text/x-python",
   "name": "python",
   "nbconvert_exporter": "python",
   "pygments_lexer": "ipython3",
   "version": "3.12.5"
  }
 },
 "nbformat": 4,
 "nbformat_minor": 5
}
